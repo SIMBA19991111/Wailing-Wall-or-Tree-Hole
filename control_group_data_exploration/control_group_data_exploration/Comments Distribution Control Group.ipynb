{
 "cells": [
  {
   "attachments": {},
   "cell_type": "markdown",
   "metadata": {},
   "source": [
    "# Step1 对照组 - dataoverview - 11个账号的哭墙/树洞比例"
   ]
  },
  {
   "cell_type": "code",
   "execution_count": 2,
   "metadata": {},
   "outputs": [
    {
     "data": {
      "text/plain": [
       "'%pip install -U kaleido'"
      ]
     },
     "execution_count": 2,
     "metadata": {},
     "output_type": "execute_result"
    }
   ],
   "source": [
    "'''%pip install -U kaleido'''"
   ]
  },
  {
   "cell_type": "code",
   "execution_count": 3,
   "metadata": {},
   "outputs": [],
   "source": [
    "import pandas as pd\n",
    "import numpy as np\n",
    "import pandas as pd \n",
    "import seaborn as sns\n",
    "import matplotlib.pyplot as plt\n",
    "import warnings\n",
    "import plotly.express as px\n",
    "%matplotlib inline\n",
    "from scipy.signal import find_peaks\n",
    "import plotly.express as px\n",
    "import plotly.graph_objs as go\n",
    "from plotly.subplots import make_subplots\n",
    "import warnings\n",
    "warnings.filterwarnings('ignore')"
   ]
  },
  {
   "cell_type": "code",
   "execution_count": 4,
   "metadata": {},
   "outputs": [
    {
     "data": {
      "text/html": [
       "<div>\n",
       "<style scoped>\n",
       "    .dataframe tbody tr th:only-of-type {\n",
       "        vertical-align: middle;\n",
       "    }\n",
       "\n",
       "    .dataframe tbody tr th {\n",
       "        vertical-align: top;\n",
       "    }\n",
       "\n",
       "    .dataframe thead th {\n",
       "        text-align: right;\n",
       "    }\n",
       "</style>\n",
       "<table border=\"1\" class=\"dataframe\">\n",
       "  <thead>\n",
       "    <tr style=\"text-align: right;\">\n",
       "      <th></th>\n",
       "      <th>User_ID</th>\n",
       "      <th>Cause_of_Death</th>\n",
       "      <th>Last_Post_Time</th>\n",
       "      <th>Comment_Time</th>\n",
       "      <th>Relative_Elapsed_Time</th>\n",
       "      <th>Commenter_Name</th>\n",
       "      <th>Comment</th>\n",
       "      <th>Tree_Hole</th>\n",
       "      <th>Wailing_Wall</th>\n",
       "      <th>Not_Related</th>\n",
       "      <th>Comments_Split</th>\n",
       "    </tr>\n",
       "  </thead>\n",
       "  <tbody>\n",
       "    <tr>\n",
       "      <th>0</th>\n",
       "      <td>红烧土豆叶</td>\n",
       "      <td>学业压力/抑郁症/自杀</td>\n",
       "      <td>2020-10-13 02:00:00</td>\n",
       "      <td>2020-10-13 22:10:51</td>\n",
       "      <td>0.0</td>\n",
       "      <td>光明绘海Emi</td>\n",
       "      <td>我朋友有家猫咖，二楼阳台左边门没关，家里有哥哥姐姐四五位，脾气都很好，你记得来</td>\n",
       "      <td>1</td>\n",
       "      <td>0</td>\n",
       "      <td>0</td>\n",
       "      <td>我,朋友,家,猫,咖,二,楼,阳台,左边,门,关,家里,哥哥,姐姐,四五位,脾气,很好,你,记得</td>\n",
       "    </tr>\n",
       "    <tr>\n",
       "      <th>1</th>\n",
       "      <td>红烧土豆叶</td>\n",
       "      <td>学业压力/抑郁症/自杀</td>\n",
       "      <td>2020-10-13 02:00:00</td>\n",
       "      <td>2020-10-13 16:21:28</td>\n",
       "      <td>0.0</td>\n",
       "      <td>郑先生的灯泡</td>\n",
       "      <td>第一次见你介绍自己说叫“旧书”，听你做草坪上弹我的吉他，我们一起在山礼跳舞，给活动帮忙。。。...</td>\n",
       "      <td>0</td>\n",
       "      <td>1</td>\n",
       "      <td>0</td>\n",
       "      <td>第一次,见,你,介绍,自己,说,叫,“,旧书,”,听,你,做,草坪,上,弹,我,吉他,我们,...</td>\n",
       "    </tr>\n",
       "    <tr>\n",
       "      <th>2</th>\n",
       "      <td>红烧土豆叶</td>\n",
       "      <td>学业压力/抑郁症/自杀</td>\n",
       "      <td>2020-10-13 02:00:00</td>\n",
       "      <td>2020-10-13 14:26:33</td>\n",
       "      <td>0.0</td>\n",
       "      <td>搁浅-color</td>\n",
       "      <td>他最后还在祝国家繁荣昌盛，多么温柔的人啊</td>\n",
       "      <td>0</td>\n",
       "      <td>1</td>\n",
       "      <td>0</td>\n",
       "      <td>他,最后,还在,祝,国家,繁荣昌盛,多么,温柔,人</td>\n",
       "    </tr>\n",
       "  </tbody>\n",
       "</table>\n",
       "</div>"
      ],
      "text/plain": [
       "  User_ID Cause_of_Death       Last_Post_Time         Comment_Time  \\\n",
       "0   红烧土豆叶    学业压力/抑郁症/自杀  2020-10-13 02:00:00  2020-10-13 22:10:51   \n",
       "1   红烧土豆叶    学业压力/抑郁症/自杀  2020-10-13 02:00:00  2020-10-13 16:21:28   \n",
       "2   红烧土豆叶    学业压力/抑郁症/自杀  2020-10-13 02:00:00  2020-10-13 14:26:33   \n",
       "\n",
       "   Relative_Elapsed_Time Commenter_Name  \\\n",
       "0                    0.0        光明绘海Emi   \n",
       "1                    0.0         郑先生的灯泡   \n",
       "2                    0.0       搁浅-color   \n",
       "\n",
       "                                             Comment  Tree_Hole  Wailing_Wall  \\\n",
       "0            我朋友有家猫咖，二楼阳台左边门没关，家里有哥哥姐姐四五位，脾气都很好，你记得来          1             0   \n",
       "1  第一次见你介绍自己说叫“旧书”，听你做草坪上弹我的吉他，我们一起在山礼跳舞，给活动帮忙。。。...          0             1   \n",
       "2                               他最后还在祝国家繁荣昌盛，多么温柔的人啊          0             1   \n",
       "\n",
       "   Not_Related                                     Comments_Split  \n",
       "0            0   我,朋友,家,猫,咖,二,楼,阳台,左边,门,关,家里,哥哥,姐姐,四五位,脾气,很好,你,记得  \n",
       "1            0  第一次,见,你,介绍,自己,说,叫,“,旧书,”,听,你,做,草坪,上,弹,我,吉他,我们,...  \n",
       "2            0                          他,最后,还在,祝,国家,繁荣昌盛,多么,温柔,人  "
      ]
     },
     "execution_count": 4,
     "metadata": {},
     "output_type": "execute_result"
    }
   ],
   "source": [
    "df_all = pd.read_csv(\"ComparisonGroupComments_Split.csv\",encoding=\"UTF-8\")\n",
    "df_all.head(3)"
   ]
  },
  {
   "cell_type": "code",
   "execution_count": 5,
   "metadata": {},
   "outputs": [
    {
     "name": "stdout",
     "output_type": "stream",
     "text": [
      "红烧土豆叶\n",
      "鹿道森\n",
      "离灯_冬眠mode关闭失败\n",
      "醒醒我们回家了-走饭小号\n",
      "头发有点儿杵脖子\n",
      "旅行的孤独风\n",
      "玫瑰机关枪\n",
      "十里清禾w\n",
      "刘学州a\n",
      "鸡蛋姬\n",
      "走饭\n"
     ]
    }
   ],
   "source": [
    "for name in df_all['User_ID'].unique():\n",
    "    print(name)"
   ]
  },
  {
   "cell_type": "code",
   "execution_count": 6,
   "metadata": {},
   "outputs": [],
   "source": [
    "merge1 = []"
   ]
  },
  {
   "cell_type": "code",
   "execution_count": 7,
   "metadata": {},
   "outputs": [],
   "source": [
    "listx = [\"红烧土豆叶\",\"鹿道森\",\"离灯_冬眠mode关闭失败\",\"醒醒我们回家了-走饭小号\",\"头发有点儿杵脖子\",\"旅行的孤独风\",\"玫瑰机关枪\",\"十里清禾w\",\"刘学州a\",\"鸡蛋姬\",\"走饭\"]\n",
    "for n in range(1,12):\n",
    "    name = \"df_ID\" + str(n)"
   ]
  },
  {
   "cell_type": "code",
   "execution_count": 8,
   "metadata": {},
   "outputs": [],
   "source": [
    "for i in listx:\n",
    "    df = df_all[df_all['User_ID'] == str(i)]\n",
    "    df['Tree_Hole'] = df['Tree_Hole'].replace({1: 'Yes', 0: 'No'})\n",
    "    df['Wailing_Wall'] = df['Wailing_Wall'].replace({1: 'Yes', 0: 'No'})\n",
    "    df['Not_Related'] = df['Not_Related'].replace({1: 'Yes', 0: 'No'})\n",
    "    \n",
    "    df_tree_hole = df\n",
    "    df_whaling_wall = df\n",
    "\n",
    "    df_tree_hole = df_tree_hole[df_tree_hole['Tree_Hole'] == 'Yes']\n",
    "    df_whaling_wall = df_whaling_wall[df_whaling_wall['Wailing_Wall'] == 'Yes']\n",
    "\n",
    "    df_unique_tree_hole = df[(df['Tree_Hole'] == 'Yes') & (df['Wailing_Wall'] == 'No')]\n",
    "    df_unique_whaling_wall = df[(df['Tree_Hole'] == 'No') & (df['Wailing_Wall'] == 'Yes')]\n",
    "    df_both = df[(df['Tree_Hole'] == 'Yes') & (df['Wailing_Wall'] == 'Yes')]\n",
    "    df_none = df[(df['Tree_Hole'] == 'No') & (df['Wailing_Wall'] == 'No')]\n",
    "\n",
    "\n",
    "    all_count = df['Comment'].count()\n",
    "    tree_hole_count = df_tree_hole['Comment'].count()\n",
    "    whaling_wall_count = df_whaling_wall['Comment'].count()\n",
    "    unique_tree_hole_count = df_unique_tree_hole['Comment'].count()\n",
    "    unique_whaling_wall_count = df_unique_whaling_wall['Comment'].count()\n",
    "    both_count = df_both['Comment'].count()\n",
    "    none_count = df_none['Comment'].count()\n",
    "\n",
    "    value = [unique_tree_hole_count, unique_whaling_wall_count, both_count, none_count]\n",
    "    merge1.append(value)"
   ]
  },
  {
   "cell_type": "code",
   "execution_count": 9,
   "metadata": {},
   "outputs": [
    {
     "data": {
      "text/html": [
       "<div>\n",
       "<style scoped>\n",
       "    .dataframe tbody tr th:only-of-type {\n",
       "        vertical-align: middle;\n",
       "    }\n",
       "\n",
       "    .dataframe tbody tr th {\n",
       "        vertical-align: top;\n",
       "    }\n",
       "\n",
       "    .dataframe thead th {\n",
       "        text-align: right;\n",
       "    }\n",
       "</style>\n",
       "<table border=\"1\" class=\"dataframe\">\n",
       "  <thead>\n",
       "    <tr style=\"text-align: right;\">\n",
       "      <th></th>\n",
       "      <th>ID</th>\n",
       "      <th>unique_whaling_wall_count</th>\n",
       "      <th>both_count</th>\n",
       "      <th>none_count</th>\n",
       "      <th>unique_tree_hole_count</th>\n",
       "    </tr>\n",
       "  </thead>\n",
       "  <tbody>\n",
       "    <tr>\n",
       "      <th>0</th>\n",
       "      <td>红烧土豆叶</td>\n",
       "      <td>163</td>\n",
       "      <td>17</td>\n",
       "      <td>13</td>\n",
       "      <td>105</td>\n",
       "    </tr>\n",
       "    <tr>\n",
       "      <th>1</th>\n",
       "      <td>鹿道森</td>\n",
       "      <td>205</td>\n",
       "      <td>7</td>\n",
       "      <td>32</td>\n",
       "      <td>55</td>\n",
       "    </tr>\n",
       "    <tr>\n",
       "      <th>2</th>\n",
       "      <td>离灯_冬眠mode关闭失败</td>\n",
       "      <td>89</td>\n",
       "      <td>25</td>\n",
       "      <td>25</td>\n",
       "      <td>134</td>\n",
       "    </tr>\n",
       "    <tr>\n",
       "      <th>3</th>\n",
       "      <td>醒醒我们回家了-走饭小号</td>\n",
       "      <td>31</td>\n",
       "      <td>11</td>\n",
       "      <td>16</td>\n",
       "      <td>213</td>\n",
       "    </tr>\n",
       "    <tr>\n",
       "      <th>4</th>\n",
       "      <td>头发有点儿杵脖子</td>\n",
       "      <td>133</td>\n",
       "      <td>15</td>\n",
       "      <td>36</td>\n",
       "      <td>96</td>\n",
       "    </tr>\n",
       "    <tr>\n",
       "      <th>5</th>\n",
       "      <td>旅行的孤独风</td>\n",
       "      <td>114</td>\n",
       "      <td>22</td>\n",
       "      <td>34</td>\n",
       "      <td>148</td>\n",
       "    </tr>\n",
       "    <tr>\n",
       "      <th>6</th>\n",
       "      <td>玫瑰机关枪</td>\n",
       "      <td>185</td>\n",
       "      <td>33</td>\n",
       "      <td>18</td>\n",
       "      <td>42</td>\n",
       "    </tr>\n",
       "    <tr>\n",
       "      <th>7</th>\n",
       "      <td>十里清禾w</td>\n",
       "      <td>148</td>\n",
       "      <td>75</td>\n",
       "      <td>5</td>\n",
       "      <td>74</td>\n",
       "    </tr>\n",
       "    <tr>\n",
       "      <th>8</th>\n",
       "      <td>刘学州a</td>\n",
       "      <td>165</td>\n",
       "      <td>42</td>\n",
       "      <td>24</td>\n",
       "      <td>70</td>\n",
       "    </tr>\n",
       "    <tr>\n",
       "      <th>9</th>\n",
       "      <td>鸡蛋姬</td>\n",
       "      <td>226</td>\n",
       "      <td>26</td>\n",
       "      <td>1</td>\n",
       "      <td>25</td>\n",
       "    </tr>\n",
       "    <tr>\n",
       "      <th>10</th>\n",
       "      <td>走饭</td>\n",
       "      <td>11</td>\n",
       "      <td>42</td>\n",
       "      <td>6</td>\n",
       "      <td>226</td>\n",
       "    </tr>\n",
       "  </tbody>\n",
       "</table>\n",
       "</div>"
      ],
      "text/plain": [
       "               ID  unique_whaling_wall_count  both_count  none_count  \\\n",
       "0           红烧土豆叶                        163          17          13   \n",
       "1             鹿道森                        205           7          32   \n",
       "2   离灯_冬眠mode关闭失败                         89          25          25   \n",
       "3    醒醒我们回家了-走饭小号                         31          11          16   \n",
       "4        头发有点儿杵脖子                        133          15          36   \n",
       "5          旅行的孤独风                        114          22          34   \n",
       "6           玫瑰机关枪                        185          33          18   \n",
       "7           十里清禾w                        148          75           5   \n",
       "8            刘学州a                        165          42          24   \n",
       "9             鸡蛋姬                        226          26           1   \n",
       "10             走饭                         11          42           6   \n",
       "\n",
       "    unique_tree_hole_count  \n",
       "0                      105  \n",
       "1                       55  \n",
       "2                      134  \n",
       "3                      213  \n",
       "4                       96  \n",
       "5                      148  \n",
       "6                       42  \n",
       "7                       74  \n",
       "8                       70  \n",
       "9                       25  \n",
       "10                     226  "
      ]
     },
     "execution_count": 9,
     "metadata": {},
     "output_type": "execute_result"
    }
   ],
   "source": [
    "df_counts = pd.DataFrame(merge1, columns=['unique_tree_hole_count', 'unique_whaling_wall_count', 'both_count', 'none_count'])\n",
    "df_counts.insert(0, 'ID', listx)\n",
    "\n",
    "col_to_move = df_counts.pop(df_counts.columns[1])\n",
    "df_counts.insert(4, col_to_move.name, col_to_move)\n",
    "df_counts\n"
   ]
  },
  {
   "cell_type": "code",
   "execution_count": 10,
   "metadata": {},
   "outputs": [],
   "source": [
    "df_counts.to_csv(f\"data_overview_csv/Comparison_DataOverview_count.csv\", index=False)"
   ]
  },
  {
   "attachments": {},
   "cell_type": "markdown",
   "metadata": {},
   "source": [
    "可视化 百分比"
   ]
  },
  {
   "cell_type": "code",
   "execution_count": 11,
   "metadata": {},
   "outputs": [
    {
     "data": {
      "text/plain": [
       "'df_counts[numeric_cols] = df_counts[numeric_cols].apply(lambda x: round(x, 1))'"
      ]
     },
     "execution_count": 11,
     "metadata": {},
     "output_type": "execute_result"
    }
   ],
   "source": [
    "for i in range(len(df_counts)):\n",
    "    # 将ID的四个值加起来得到总计数\n",
    "    total_count = df_counts.iloc[i, 1:].sum()\n",
    "\n",
    "    # 对于ID的每个值，将其除以总计数得到百分比\n",
    "    for j in range(1, 5):\n",
    "        df_counts.iloc[i, j] = df_counts.iloc[i, j] / total_count * 100\n",
    "\n",
    "'''df_counts[numeric_cols] = df_counts[numeric_cols].apply(lambda x: round(x, 1))'''"
   ]
  },
  {
   "cell_type": "code",
   "execution_count": 15,
   "metadata": {},
   "outputs": [
    {
     "data": {
      "text/plain": [
       "10               走饭\n",
       "3      醒醒我们回家了-走饭小号\n",
       "2     离灯_冬眠mode关闭失败\n",
       "5            旅行的孤独风\n",
       "0             红烧土豆叶\n",
       "4          头发有点儿杵脖子\n",
       "7             十里清禾w\n",
       "8              刘学州a\n",
       "1               鹿道森\n",
       "6             玫瑰机关枪\n",
       "9               鸡蛋姬\n",
       "Name: ID, dtype: object"
      ]
     },
     "execution_count": 15,
     "metadata": {},
     "output_type": "execute_result"
    }
   ],
   "source": [
    "df_counts = df_counts.sort_values(by='unique_tree_hole_count', ascending=False)\n",
    "df_counts['ID']"
   ]
  },
  {
   "cell_type": "code",
   "execution_count": 16,
   "metadata": {},
   "outputs": [
    {
     "data": {
      "application/vnd.plotly.v1+json": {
       "config": {
        "plotlyServerURL": "https://plot.ly"
       },
       "data": [
        {
         "alignmentgroup": "True",
         "hovertemplate": "variable=unique_whaling_wall_count<br>ID=%{x}<br>value=%{y}<extra></extra>",
         "legendgroup": "unique_whaling_wall_count",
         "marker": {
          "color": "rgb(26,161,205)",
          "pattern": {
           "shape": ""
          }
         },
         "name": "Unique Wailing Wall",
         "offsetgroup": "unique_whaling_wall_count",
         "orientation": "v",
         "showlegend": true,
         "textfont": {
          "size": 20
         },
         "textposition": "inside",
         "texttemplate": "%{y:.1f}%",
         "type": "bar",
         "x": [
          "走饭",
          "醒醒我们回家了-走饭小号",
          "离灯_冬眠mode关闭失败",
          "旅行的孤独风",
          "红烧土豆叶",
          "头发有点儿杵脖子",
          "十里清禾w",
          "刘学州a",
          "鹿道森",
          "玫瑰机关枪",
          "鸡蛋姬"
         ],
         "xaxis": "x",
         "y": [
          3.8596491228070176,
          11.439114391143912,
          32.6007326007326,
          35.84905660377358,
          54.69798657718121,
          47.5,
          49.00662251655629,
          54.81727574750831,
          68.56187290969899,
          66.54676258992805,
          81.29496402877699
         ],
         "yaxis": "y"
        },
        {
         "alignmentgroup": "True",
         "hovertemplate": "variable=both_count<br>ID=%{x}<br>value=%{y}<extra></extra>",
         "legendgroup": "both_count",
         "marker": {
          "color": "rgb(11,187,159)",
          "pattern": {
           "shape": ""
          }
         },
         "name": "Both",
         "offsetgroup": "both_count",
         "orientation": "v",
         "showlegend": true,
         "textfont": {
          "size": 20
         },
         "textposition": "inside",
         "texttemplate": "%{y:.1f}%",
         "type": "bar",
         "x": [
          "走饭",
          "醒醒我们回家了-走饭小号",
          "离灯_冬眠mode关闭失败",
          "旅行的孤独风",
          "红烧土豆叶",
          "头发有点儿杵脖子",
          "十里清禾w",
          "刘学州a",
          "鹿道森",
          "玫瑰机关枪",
          "鸡蛋姬"
         ],
         "xaxis": "x",
         "y": [
          14.736842105263156,
          4.059040590405904,
          9.157509157509157,
          6.918238993710692,
          5.704697986577181,
          5.357142857142857,
          24.834437086092713,
          13.953488372093023,
          2.341137123745819,
          11.870503597122301,
          9.352517985611511
         ],
         "yaxis": "y"
        },
        {
         "alignmentgroup": "True",
         "hovertemplate": "variable=none_count<br>ID=%{x}<br>value=%{y}<extra></extra>",
         "legendgroup": "none_count",
         "marker": {
          "color": "rgb(206,206,206)",
          "pattern": {
           "shape": ""
          }
         },
         "name": "None",
         "offsetgroup": "none_count",
         "orientation": "v",
         "showlegend": true,
         "textfont": {
          "size": 20
         },
         "textposition": "inside",
         "texttemplate": "%{y:.1f}%",
         "type": "bar",
         "x": [
          "走饭",
          "醒醒我们回家了-走饭小号",
          "离灯_冬眠mode关闭失败",
          "旅行的孤独风",
          "红烧土豆叶",
          "头发有点儿杵脖子",
          "十里清禾w",
          "刘学州a",
          "鹿道森",
          "玫瑰机关枪",
          "鸡蛋姬"
         ],
         "xaxis": "x",
         "y": [
          2.1052631578947367,
          5.904059040590406,
          9.157509157509157,
          10.69182389937107,
          4.3624161073825505,
          12.857142857142856,
          1.6556291390728477,
          7.973421926910299,
          10.702341137123746,
          6.474820143884892,
          0.3597122302158274
         ],
         "yaxis": "y"
        },
        {
         "alignmentgroup": "True",
         "hovertemplate": "variable=unique_tree_hole_count<br>ID=%{x}<br>value=%{y}<extra></extra>",
         "legendgroup": "unique_tree_hole_count",
         "marker": {
          "color": "rgb(228,83,78)",
          "pattern": {
           "shape": ""
          }
         },
         "name": "Unique Tree Hole",
         "offsetgroup": "unique_tree_hole_count",
         "orientation": "v",
         "showlegend": true,
         "textfont": {
          "size": 20
         },
         "textposition": "inside",
         "texttemplate": "%{y:.1f}%",
         "type": "bar",
         "x": [
          "走饭",
          "醒醒我们回家了-走饭小号",
          "离灯_冬眠mode关闭失败",
          "旅行的孤独风",
          "红烧土豆叶",
          "头发有点儿杵脖子",
          "十里清禾w",
          "刘学州a",
          "鹿道森",
          "玫瑰机关枪",
          "鸡蛋姬"
         ],
         "xaxis": "x",
         "y": [
          79.2982456140351,
          78.59778597785979,
          49.08424908424908,
          46.540880503144656,
          35.23489932885906,
          34.285714285714285,
          24.503311258278146,
          23.25581395348837,
          18.394648829431436,
          15.107913669064748,
          8.992805755395683
         ],
         "yaxis": "y"
        }
       ],
       "layout": {
        "barmode": "relative",
        "font": {
         "family": "Arial, sans-serif"
        },
        "height": 1000,
        "legend": {
         "font": {
          "size": 18
         },
         "title": {},
         "tracegroupgap": 0,
         "traceorder": "reversed"
        },
        "margin": {
         "t": 60
        },
        "template": {
         "data": {
          "bar": [
           {
            "error_x": {
             "color": "rgb(36,36,36)"
            },
            "error_y": {
             "color": "rgb(36,36,36)"
            },
            "marker": {
             "line": {
              "color": "white",
              "width": 0.5
             },
             "pattern": {
              "fillmode": "overlay",
              "size": 10,
              "solidity": 0.2
             }
            },
            "type": "bar"
           }
          ],
          "barpolar": [
           {
            "marker": {
             "line": {
              "color": "white",
              "width": 0.5
             },
             "pattern": {
              "fillmode": "overlay",
              "size": 10,
              "solidity": 0.2
             }
            },
            "type": "barpolar"
           }
          ],
          "carpet": [
           {
            "aaxis": {
             "endlinecolor": "rgb(36,36,36)",
             "gridcolor": "white",
             "linecolor": "white",
             "minorgridcolor": "white",
             "startlinecolor": "rgb(36,36,36)"
            },
            "baxis": {
             "endlinecolor": "rgb(36,36,36)",
             "gridcolor": "white",
             "linecolor": "white",
             "minorgridcolor": "white",
             "startlinecolor": "rgb(36,36,36)"
            },
            "type": "carpet"
           }
          ],
          "choropleth": [
           {
            "colorbar": {
             "outlinewidth": 1,
             "tickcolor": "rgb(36,36,36)",
             "ticks": "outside"
            },
            "type": "choropleth"
           }
          ],
          "contour": [
           {
            "colorbar": {
             "outlinewidth": 1,
             "tickcolor": "rgb(36,36,36)",
             "ticks": "outside"
            },
            "colorscale": [
             [
              0,
              "#440154"
             ],
             [
              0.1111111111111111,
              "#482878"
             ],
             [
              0.2222222222222222,
              "#3e4989"
             ],
             [
              0.3333333333333333,
              "#31688e"
             ],
             [
              0.4444444444444444,
              "#26828e"
             ],
             [
              0.5555555555555556,
              "#1f9e89"
             ],
             [
              0.6666666666666666,
              "#35b779"
             ],
             [
              0.7777777777777778,
              "#6ece58"
             ],
             [
              0.8888888888888888,
              "#b5de2b"
             ],
             [
              1,
              "#fde725"
             ]
            ],
            "type": "contour"
           }
          ],
          "contourcarpet": [
           {
            "colorbar": {
             "outlinewidth": 1,
             "tickcolor": "rgb(36,36,36)",
             "ticks": "outside"
            },
            "type": "contourcarpet"
           }
          ],
          "heatmap": [
           {
            "colorbar": {
             "outlinewidth": 1,
             "tickcolor": "rgb(36,36,36)",
             "ticks": "outside"
            },
            "colorscale": [
             [
              0,
              "#440154"
             ],
             [
              0.1111111111111111,
              "#482878"
             ],
             [
              0.2222222222222222,
              "#3e4989"
             ],
             [
              0.3333333333333333,
              "#31688e"
             ],
             [
              0.4444444444444444,
              "#26828e"
             ],
             [
              0.5555555555555556,
              "#1f9e89"
             ],
             [
              0.6666666666666666,
              "#35b779"
             ],
             [
              0.7777777777777778,
              "#6ece58"
             ],
             [
              0.8888888888888888,
              "#b5de2b"
             ],
             [
              1,
              "#fde725"
             ]
            ],
            "type": "heatmap"
           }
          ],
          "heatmapgl": [
           {
            "colorbar": {
             "outlinewidth": 1,
             "tickcolor": "rgb(36,36,36)",
             "ticks": "outside"
            },
            "colorscale": [
             [
              0,
              "#440154"
             ],
             [
              0.1111111111111111,
              "#482878"
             ],
             [
              0.2222222222222222,
              "#3e4989"
             ],
             [
              0.3333333333333333,
              "#31688e"
             ],
             [
              0.4444444444444444,
              "#26828e"
             ],
             [
              0.5555555555555556,
              "#1f9e89"
             ],
             [
              0.6666666666666666,
              "#35b779"
             ],
             [
              0.7777777777777778,
              "#6ece58"
             ],
             [
              0.8888888888888888,
              "#b5de2b"
             ],
             [
              1,
              "#fde725"
             ]
            ],
            "type": "heatmapgl"
           }
          ],
          "histogram": [
           {
            "marker": {
             "line": {
              "color": "white",
              "width": 0.6
             }
            },
            "type": "histogram"
           }
          ],
          "histogram2d": [
           {
            "colorbar": {
             "outlinewidth": 1,
             "tickcolor": "rgb(36,36,36)",
             "ticks": "outside"
            },
            "colorscale": [
             [
              0,
              "#440154"
             ],
             [
              0.1111111111111111,
              "#482878"
             ],
             [
              0.2222222222222222,
              "#3e4989"
             ],
             [
              0.3333333333333333,
              "#31688e"
             ],
             [
              0.4444444444444444,
              "#26828e"
             ],
             [
              0.5555555555555556,
              "#1f9e89"
             ],
             [
              0.6666666666666666,
              "#35b779"
             ],
             [
              0.7777777777777778,
              "#6ece58"
             ],
             [
              0.8888888888888888,
              "#b5de2b"
             ],
             [
              1,
              "#fde725"
             ]
            ],
            "type": "histogram2d"
           }
          ],
          "histogram2dcontour": [
           {
            "colorbar": {
             "outlinewidth": 1,
             "tickcolor": "rgb(36,36,36)",
             "ticks": "outside"
            },
            "colorscale": [
             [
              0,
              "#440154"
             ],
             [
              0.1111111111111111,
              "#482878"
             ],
             [
              0.2222222222222222,
              "#3e4989"
             ],
             [
              0.3333333333333333,
              "#31688e"
             ],
             [
              0.4444444444444444,
              "#26828e"
             ],
             [
              0.5555555555555556,
              "#1f9e89"
             ],
             [
              0.6666666666666666,
              "#35b779"
             ],
             [
              0.7777777777777778,
              "#6ece58"
             ],
             [
              0.8888888888888888,
              "#b5de2b"
             ],
             [
              1,
              "#fde725"
             ]
            ],
            "type": "histogram2dcontour"
           }
          ],
          "mesh3d": [
           {
            "colorbar": {
             "outlinewidth": 1,
             "tickcolor": "rgb(36,36,36)",
             "ticks": "outside"
            },
            "type": "mesh3d"
           }
          ],
          "parcoords": [
           {
            "line": {
             "colorbar": {
              "outlinewidth": 1,
              "tickcolor": "rgb(36,36,36)",
              "ticks": "outside"
             }
            },
            "type": "parcoords"
           }
          ],
          "pie": [
           {
            "automargin": true,
            "type": "pie"
           }
          ],
          "scatter": [
           {
            "fillpattern": {
             "fillmode": "overlay",
             "size": 10,
             "solidity": 0.2
            },
            "type": "scatter"
           }
          ],
          "scatter3d": [
           {
            "line": {
             "colorbar": {
              "outlinewidth": 1,
              "tickcolor": "rgb(36,36,36)",
              "ticks": "outside"
             }
            },
            "marker": {
             "colorbar": {
              "outlinewidth": 1,
              "tickcolor": "rgb(36,36,36)",
              "ticks": "outside"
             }
            },
            "type": "scatter3d"
           }
          ],
          "scattercarpet": [
           {
            "marker": {
             "colorbar": {
              "outlinewidth": 1,
              "tickcolor": "rgb(36,36,36)",
              "ticks": "outside"
             }
            },
            "type": "scattercarpet"
           }
          ],
          "scattergeo": [
           {
            "marker": {
             "colorbar": {
              "outlinewidth": 1,
              "tickcolor": "rgb(36,36,36)",
              "ticks": "outside"
             }
            },
            "type": "scattergeo"
           }
          ],
          "scattergl": [
           {
            "marker": {
             "colorbar": {
              "outlinewidth": 1,
              "tickcolor": "rgb(36,36,36)",
              "ticks": "outside"
             }
            },
            "type": "scattergl"
           }
          ],
          "scattermapbox": [
           {
            "marker": {
             "colorbar": {
              "outlinewidth": 1,
              "tickcolor": "rgb(36,36,36)",
              "ticks": "outside"
             }
            },
            "type": "scattermapbox"
           }
          ],
          "scatterpolar": [
           {
            "marker": {
             "colorbar": {
              "outlinewidth": 1,
              "tickcolor": "rgb(36,36,36)",
              "ticks": "outside"
             }
            },
            "type": "scatterpolar"
           }
          ],
          "scatterpolargl": [
           {
            "marker": {
             "colorbar": {
              "outlinewidth": 1,
              "tickcolor": "rgb(36,36,36)",
              "ticks": "outside"
             }
            },
            "type": "scatterpolargl"
           }
          ],
          "scatterternary": [
           {
            "marker": {
             "colorbar": {
              "outlinewidth": 1,
              "tickcolor": "rgb(36,36,36)",
              "ticks": "outside"
             }
            },
            "type": "scatterternary"
           }
          ],
          "surface": [
           {
            "colorbar": {
             "outlinewidth": 1,
             "tickcolor": "rgb(36,36,36)",
             "ticks": "outside"
            },
            "colorscale": [
             [
              0,
              "#440154"
             ],
             [
              0.1111111111111111,
              "#482878"
             ],
             [
              0.2222222222222222,
              "#3e4989"
             ],
             [
              0.3333333333333333,
              "#31688e"
             ],
             [
              0.4444444444444444,
              "#26828e"
             ],
             [
              0.5555555555555556,
              "#1f9e89"
             ],
             [
              0.6666666666666666,
              "#35b779"
             ],
             [
              0.7777777777777778,
              "#6ece58"
             ],
             [
              0.8888888888888888,
              "#b5de2b"
             ],
             [
              1,
              "#fde725"
             ]
            ],
            "type": "surface"
           }
          ],
          "table": [
           {
            "cells": {
             "fill": {
              "color": "rgb(237,237,237)"
             },
             "line": {
              "color": "white"
             }
            },
            "header": {
             "fill": {
              "color": "rgb(217,217,217)"
             },
             "line": {
              "color": "white"
             }
            },
            "type": "table"
           }
          ]
         },
         "layout": {
          "annotationdefaults": {
           "arrowhead": 0,
           "arrowwidth": 1
          },
          "autotypenumbers": "strict",
          "coloraxis": {
           "colorbar": {
            "outlinewidth": 1,
            "tickcolor": "rgb(36,36,36)",
            "ticks": "outside"
           }
          },
          "colorscale": {
           "diverging": [
            [
             0,
             "rgb(103,0,31)"
            ],
            [
             0.1,
             "rgb(178,24,43)"
            ],
            [
             0.2,
             "rgb(214,96,77)"
            ],
            [
             0.3,
             "rgb(244,165,130)"
            ],
            [
             0.4,
             "rgb(253,219,199)"
            ],
            [
             0.5,
             "rgb(247,247,247)"
            ],
            [
             0.6,
             "rgb(209,229,240)"
            ],
            [
             0.7,
             "rgb(146,197,222)"
            ],
            [
             0.8,
             "rgb(67,147,195)"
            ],
            [
             0.9,
             "rgb(33,102,172)"
            ],
            [
             1,
             "rgb(5,48,97)"
            ]
           ],
           "sequential": [
            [
             0,
             "#440154"
            ],
            [
             0.1111111111111111,
             "#482878"
            ],
            [
             0.2222222222222222,
             "#3e4989"
            ],
            [
             0.3333333333333333,
             "#31688e"
            ],
            [
             0.4444444444444444,
             "#26828e"
            ],
            [
             0.5555555555555556,
             "#1f9e89"
            ],
            [
             0.6666666666666666,
             "#35b779"
            ],
            [
             0.7777777777777778,
             "#6ece58"
            ],
            [
             0.8888888888888888,
             "#b5de2b"
            ],
            [
             1,
             "#fde725"
            ]
           ],
           "sequentialminus": [
            [
             0,
             "#440154"
            ],
            [
             0.1111111111111111,
             "#482878"
            ],
            [
             0.2222222222222222,
             "#3e4989"
            ],
            [
             0.3333333333333333,
             "#31688e"
            ],
            [
             0.4444444444444444,
             "#26828e"
            ],
            [
             0.5555555555555556,
             "#1f9e89"
            ],
            [
             0.6666666666666666,
             "#35b779"
            ],
            [
             0.7777777777777778,
             "#6ece58"
            ],
            [
             0.8888888888888888,
             "#b5de2b"
            ],
            [
             1,
             "#fde725"
            ]
           ]
          },
          "colorway": [
           "#1F77B4",
           "#FF7F0E",
           "#2CA02C",
           "#D62728",
           "#9467BD",
           "#8C564B",
           "#E377C2",
           "#7F7F7F",
           "#BCBD22",
           "#17BECF"
          ],
          "font": {
           "color": "rgb(36,36,36)"
          },
          "geo": {
           "bgcolor": "white",
           "lakecolor": "white",
           "landcolor": "white",
           "showlakes": true,
           "showland": true,
           "subunitcolor": "white"
          },
          "hoverlabel": {
           "align": "left"
          },
          "hovermode": "closest",
          "mapbox": {
           "style": "light"
          },
          "paper_bgcolor": "white",
          "plot_bgcolor": "white",
          "polar": {
           "angularaxis": {
            "gridcolor": "rgb(232,232,232)",
            "linecolor": "rgb(36,36,36)",
            "showgrid": false,
            "showline": true,
            "ticks": "outside"
           },
           "bgcolor": "white",
           "radialaxis": {
            "gridcolor": "rgb(232,232,232)",
            "linecolor": "rgb(36,36,36)",
            "showgrid": false,
            "showline": true,
            "ticks": "outside"
           }
          },
          "scene": {
           "xaxis": {
            "backgroundcolor": "white",
            "gridcolor": "rgb(232,232,232)",
            "gridwidth": 2,
            "linecolor": "rgb(36,36,36)",
            "showbackground": true,
            "showgrid": false,
            "showline": true,
            "ticks": "outside",
            "zeroline": false,
            "zerolinecolor": "rgb(36,36,36)"
           },
           "yaxis": {
            "backgroundcolor": "white",
            "gridcolor": "rgb(232,232,232)",
            "gridwidth": 2,
            "linecolor": "rgb(36,36,36)",
            "showbackground": true,
            "showgrid": false,
            "showline": true,
            "ticks": "outside",
            "zeroline": false,
            "zerolinecolor": "rgb(36,36,36)"
           },
           "zaxis": {
            "backgroundcolor": "white",
            "gridcolor": "rgb(232,232,232)",
            "gridwidth": 2,
            "linecolor": "rgb(36,36,36)",
            "showbackground": true,
            "showgrid": false,
            "showline": true,
            "ticks": "outside",
            "zeroline": false,
            "zerolinecolor": "rgb(36,36,36)"
           }
          },
          "shapedefaults": {
           "fillcolor": "black",
           "line": {
            "width": 0
           },
           "opacity": 0.3
          },
          "ternary": {
           "aaxis": {
            "gridcolor": "rgb(232,232,232)",
            "linecolor": "rgb(36,36,36)",
            "showgrid": false,
            "showline": true,
            "ticks": "outside"
           },
           "baxis": {
            "gridcolor": "rgb(232,232,232)",
            "linecolor": "rgb(36,36,36)",
            "showgrid": false,
            "showline": true,
            "ticks": "outside"
           },
           "bgcolor": "white",
           "caxis": {
            "gridcolor": "rgb(232,232,232)",
            "linecolor": "rgb(36,36,36)",
            "showgrid": false,
            "showline": true,
            "ticks": "outside"
           }
          },
          "title": {
           "x": 0.05
          },
          "xaxis": {
           "automargin": true,
           "gridcolor": "rgb(232,232,232)",
           "linecolor": "rgb(36,36,36)",
           "showgrid": false,
           "showline": true,
           "ticks": "outside",
           "title": {
            "standoff": 15
           },
           "zeroline": false,
           "zerolinecolor": "rgb(36,36,36)"
          },
          "yaxis": {
           "automargin": true,
           "gridcolor": "rgb(232,232,232)",
           "linecolor": "rgb(36,36,36)",
           "showgrid": false,
           "showline": true,
           "ticks": "outside",
           "title": {
            "standoff": 15
           },
           "zeroline": false,
           "zerolinecolor": "rgb(36,36,36)"
          }
         }
        },
        "title": {
         "font": {
          "size": 30
         },
         "text": "<b>Distribution of Comments</b> (Control Group)"
        },
        "width": 1600,
        "xaxis": {
         "anchor": "y",
         "domain": [
          0,
          1
         ],
         "tickfont": {
          "size": 15
         },
         "ticktext": [
          "<b>走饭</b>",
          "<b>醒醒我们回家了<br>(走饭小号)</b>",
          "<b>离灯_冬眠mode<br>关闭失败</b>",
          "<b>旅行的孤独风</b>",
          "<b>红烧土豆叶</b>",
          "<b>头发有点儿杵脖子</b>",
          "<b>十里清禾w</b>",
          "<b> 刘学州a</b>",
          "<b>鹿道森</b>",
          "<b>玫瑰机关枪</b>",
          "<b>鸡蛋姬</b>"
         ],
         "tickvals": [
          0,
          1,
          2,
          3,
          4,
          5,
          6,
          7,
          8,
          9,
          10
         ],
         "title": {
          "text": " "
         }
        },
        "yaxis": {
         "anchor": "x",
         "domain": [
          0,
          1
         ],
         "gridwidth": 0.1,
         "showgrid": true,
         "showticklabels": true,
         "tickfont": {
          "size": 15
         },
         "ticktext": [
          "100%"
         ],
         "tickvals": [
          100
         ],
         "title": {
          "font": {
           "size": 20
          },
          "text": "<b>Distribution(%)</b>"
         }
        }
       }
      }
     },
     "metadata": {},
     "output_type": "display_data"
    }
   ],
   "source": [
    "import plotly.express as px\n",
    "\n",
    "wide_df = px.data.medals_wide()\n",
    "\n",
    "color_map = {\n",
    "    'unique_tree_hole_count': 'rgb(228,83,78)',\n",
    "    'both_count': 'rgb(11,187,159)',\n",
    "    'none_count': 'rgb(206,206,206)',\n",
    "    'unique_whaling_wall_count': 'rgb(26,161,205)'\n",
    "}\n",
    "\n",
    "\n",
    "fig = px.bar(df_counts, x=\"ID\", y=df_counts.columns[1:5].tolist(),color_discrete_map=color_map)\n",
    "\n",
    "fig.update_traces(texttemplate='%{y:.1f}%', textposition='inside',textfont={'size': 20})\n",
    "\n",
    "\n",
    "fig.update_layout(\n",
    "    width=1600,  # 宽度为800\n",
    "    height=1000, # 高度为600\n",
    "    title={'text':\"<b>Distribution of Comments</b> (Control Group)\",'font': {'size': 30}}, # x轴标签\n",
    "    yaxis_title=\"<b>Distribution(%)</b>\",\n",
    "    template='simple_white', # y轴标签\n",
    "    legend=dict(\n",
    "        font=dict(\n",
    "            size=18\n",
    "        ),title=None,traceorder=\"reversed\" \n",
    "    ),font=dict(family='Arial, sans-serif'),\n",
    "    xaxis_title=\" \"\n",
    ")\n",
    "\n",
    "fig.update_traces(name='Unique Tree Hole', selector=dict(name='unique_tree_hole_count'))\n",
    "fig.update_traces(name='Unique Wailing Wall', selector=dict(name='unique_whaling_wall_count'))\n",
    "fig.update_traces(name='Both', selector=dict(name='both_count'))\n",
    "fig.update_traces(name='None', selector=dict(name='none_count'))\n",
    "fig.update_layout(xaxis=dict(tickfont=dict(size=15)))\n",
    "fig.update_xaxes(\n",
    "    tickvals=[0, 1, 2, 3, 4, 5, 6, 7, 8, 9, 10],\n",
    "    ticktext=['<b>走饭</b>', '<b>醒醒我们回家了<br>(走饭小号)</b>', '<b>离灯_冬眠mode<br>关闭失败</b>', '<b>旅行的孤独风</b>', '<b>红烧土豆叶</b>', '<b>头发有点儿杵脖子</b>', '<b>十里清禾w</b>', '<b> 刘学州a</b>', '<b>鹿道森</b>', '<b>玫瑰机关枪</b>', '<b>鸡蛋姬</b>'],\n",
    ")\n",
    "fig.update_yaxes(\n",
    "    title='<b>Distribution(%)</b>', # add a title to the y-axis\n",
    "    # change the font size of the tick labels\n",
    "    showgrid=True, # display gridlines\n",
    "    gridwidth=0.1,\n",
    "    title_font=dict(size=20) # set the width of the gridlines\n",
    ")\n",
    "fig.update_yaxes(\n",
    "    tickvals=[100], # 仅设置100作为刻度标签\n",
    "    ticktext=['100%'], # 用 <b> 标签包裹标签，使其加粗\n",
    "    showticklabels=True,\n",
    "    tickfont=dict(size=15) # 显示刻度标签\n",
    ")\n",
    "\n",
    "fig.show()"
   ]
  },
  {
   "cell_type": "code",
   "execution_count": 17,
   "metadata": {},
   "outputs": [],
   "source": [
    "import os\n",
    "\n",
    "if not os.path.exists(\"images\"):\n",
    "    os.mkdir(\"images\")\n",
    "fig.write_image(\"images/Distribution of Comments(Control Group).png\", scale=2)"
   ]
  }
 ],
 "metadata": {
  "kernelspec": {
   "display_name": "base",
   "language": "python",
   "name": "python3"
  },
  "language_info": {
   "codemirror_mode": {
    "name": "ipython",
    "version": 3
   },
   "file_extension": ".py",
   "mimetype": "text/x-python",
   "name": "python",
   "nbconvert_exporter": "python",
   "pygments_lexer": "ipython3",
   "version": "3.9.16"
  },
  "orig_nbformat": 4
 },
 "nbformat": 4,
 "nbformat_minor": 2
}
