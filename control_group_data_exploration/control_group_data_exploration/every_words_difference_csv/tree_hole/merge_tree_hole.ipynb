{
 "cells": [
  {
   "cell_type": "code",
   "execution_count": 16,
   "metadata": {},
   "outputs": [],
   "source": [
    "import os\n",
    "import pandas as pd\n",
    "\n",
    "listx = [\"红烧土豆叶\",\"鹿道森\",\"离灯_冬眠mode关闭失败\",\"醒醒我们回家了-走饭小号\",\"头发有点儿杵脖子\",\"旅行的孤独风\",\"玫瑰机关枪\",\"十里清禾w\",\"刘学州a\",\"鸡蛋姬\",\"走饭\"]\n",
    "\n",
    "# 创建一个空的 DataFrame\n",
    "combined_df = pd.DataFrame()\n",
    "\n",
    "# 逐个读取 CSV 文件，将它们合并到 combined_df 中\n",
    "for file in listx:\n",
    "    df = pd.read_csv(f\"{file}_tree_hole.csv\")\n",
    "    combined_df = pd.concat([combined_df, df])\n",
    "\n",
    "# 将 combined_df 写入一个新的 CSV 文件\n",
    "combined_df.to_csv('tree_hole_all.csv', index=False)\n"
   ]
  },
  {
   "cell_type": "code",
   "execution_count": null,
   "metadata": {},
   "outputs": [],
   "source": []
  },
  {
   "cell_type": "code",
   "execution_count": 11,
   "metadata": {},
   "outputs": [],
   "source": [
    "import os\n",
    "import pandas as pd\n",
    "\n",
    "listx = [\"红烧土豆叶\",\"鹿道森\",\"离灯_冬眠mode关闭失败\",\"醒醒我们回家了-走饭小号\",\"头发有点儿杵脖子\",\"旅行的孤独风\",\"玫瑰机关枪\",\"十里清禾w\",\"刘学州a\",\"鸡蛋姬\",\"走饭\"]\n",
    "\n",
    "# 创建一个空的 DataFrame\n",
    "combined_df = pd.DataFrame()\n",
    "\n",
    "# 逐个读取 CSV 文件，将它们合并到 combined_df 中\n",
    "for file in listx:\n",
    "    df = pd.read_csv(f\"{file}_wailing_wall.csv\")\n",
    "    combined_df = pd.concat([combined_df, df])\n",
    "\n",
    "# 将 combined_df 写入一个新的 CSV 文件\n",
    "combined_df.to_csv('wailing_wall_all.csv', index=False)\n"
   ]
  },
  {
   "cell_type": "code",
   "execution_count": null,
   "metadata": {},
   "outputs": [],
   "source": []
  }
 ],
 "metadata": {
  "kernelspec": {
   "display_name": "base",
   "language": "python",
   "name": "python3"
  },
  "language_info": {
   "codemirror_mode": {
    "name": "ipython",
    "version": 3
   },
   "file_extension": ".py",
   "mimetype": "text/x-python",
   "name": "python",
   "nbconvert_exporter": "python",
   "pygments_lexer": "ipython3",
   "version": "3.9.16"
  },
  "orig_nbformat": 4
 },
 "nbformat": 4,
 "nbformat_minor": 2
}
